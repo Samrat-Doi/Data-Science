{
 "cells": [
  {
   "cell_type": "markdown",
   "id": "1a8eb850",
   "metadata": {},
   "source": [
    "TIC TAC TOE GAME"
   ]
  },
  {
   "cell_type": "code",
   "execution_count": 1,
   "id": "5382f5af",
   "metadata": {},
   "outputs": [
    {
     "name": "stdout",
     "output_type": "stream",
     "text": [
      "pygame 2.0.1 (SDL 2.0.14, Python 3.9.5)\n",
      "Hello from the pygame community. https://www.pygame.org/contribute.html\n"
     ]
    }
   ],
   "source": [
    "import pygame\n",
    "import math"
   ]
  },
  {
   "cell_type": "code",
   "execution_count": 2,
   "id": "093a6f15",
   "metadata": {},
   "outputs": [],
   "source": [
    "# Initializing Pygame"
   ]
  },
  {
   "cell_type": "code",
   "execution_count": 3,
   "id": "3925abf8",
   "metadata": {},
   "outputs": [
    {
     "data": {
      "text/plain": [
       "(7, 0)"
      ]
     },
     "execution_count": 3,
     "metadata": {},
     "output_type": "execute_result"
    }
   ],
   "source": [
    "pygame.init()"
   ]
  },
  {
   "cell_type": "code",
   "execution_count": 4,
   "id": "fc5ce9a8",
   "metadata": {},
   "outputs": [],
   "source": [
    "#Screen\n",
    "WIDTH = 500\n",
    "ROWS = 3\n",
    "win = pygame.display.set_mode((WIDTH, WIDTH))\n",
    "pygame.display.set_caption('TicTacToe')"
   ]
  },
  {
   "cell_type": "code",
   "execution_count": 5,
   "id": "6c7f36c9",
   "metadata": {},
   "outputs": [],
   "source": [
    "#Colors\n",
    "\n",
    "WHITE = (255,255,255)\n",
    "BLACK = (0,0,0)\n",
    "GRAY = (200,200,200)\n",
    "RED = (255,0,0)\n",
    "BLUE = (0,0,255)"
   ]
  },
  {
   "cell_type": "code",
   "execution_count": 6,
   "id": "0b0069f4",
   "metadata": {},
   "outputs": [],
   "source": [
    "#Images\n",
    "\n",
    "X_IMAGE = pygame.transform.scale(pygame.image.load('X_modified.png'), (150,150))\n",
    "Y_IMAGE = pygame.transform.scale(pygame.image.load('o_modified.png'), (150,150))"
   ]
  },
  {
   "cell_type": "code",
   "execution_count": 7,
   "id": "50d156f6",
   "metadata": {},
   "outputs": [],
   "source": [
    "#Fonts\n",
    "\n",
    "END_FONT = pygame.font.SysFont('courier', 40)"
   ]
  },
  {
   "cell_type": "code",
   "execution_count": 8,
   "id": "3a0449b5",
   "metadata": {},
   "outputs": [],
   "source": [
    "def draw_grid():\n",
    "    gap = WIDTH // ROWS\n",
    "    \n",
    "    #starting points\n",
    "    x = 0\n",
    "    y = 0\n",
    "    \n",
    "    for i in range(ROWS):\n",
    "        x = i * gap\n",
    "        \n",
    "        pygame.draw.line(win, GRAY, (x,0), (x,WIDTH), 3)\n",
    "        pygame.draw.line(win, GRAY, (0,x), (WIDTH,x), 3)\n",
    "        \n",
    "def initialize_grid():\n",
    "    dis_to_cen = WIDTH // ROWS // 2\n",
    "    \n",
    "    #Initializing the array\n",
    "    game_array = [[None, None, None], [None, None, None], [None, None, None]]\n",
    "    \n",
    "    \n",
    "    for i in range(len(game_array)):\n",
    "        for j in range(len(game_array[i])):\n",
    "            x = dis_to_cen * (2 * j + 1)\n",
    "            y = dis_to_cen * (2 * i + 1)\n",
    "            \n",
    "            #Adding centre coordinates\n",
    "            game_array[i][j] = (x, y, '', True)\n",
    "            \n",
    "    return game_array\n",
    "\n",
    "\n",
    "\n",
    "\n",
    "def click(game_array):\n",
    "    global x_turn, o_turn, images\n",
    "    \n",
    "    #Mouse Position\n",
    "    m_x, m_y = pygame.mouse.get_pos()\n",
    "    \n",
    "    \n",
    "    for i in range(len(game_array)):\n",
    "        for j in range(len(game_array[i])):\n",
    "            x, y, char, can_play = game_array[i][j]\n",
    "            \n",
    "            \n",
    "            #Distance between mouse and the centre of the square\n",
    "            dis = math.sqrt((x - m_x) **2 + (y - m_y) ** 2 )\n",
    "            \n",
    "            \n",
    "            # If it's inside the square\n",
    "            if dis < WIDTH // ROWS // 2 and can_play:\n",
    "                if x_turn: \n",
    "                    images.append((x, y, X_IMAGE))\n",
    "                    x_turn = False\n",
    "                    o_turn = True\n",
    "                    game_array[i][j] = (x, y, 'x', False)\n",
    "                    \n",
    "                    \n",
    "                elif o_turn: \n",
    "                    images.append((x, y, Y_IMAGE))\n",
    "                    x_turn = False\n",
    "                    o_turn = True\n",
    "                    game_array[i][j] = (x, y, 'o', False)\n",
    "                    "
   ]
  },
  {
   "cell_type": "code",
   "execution_count": 9,
   "id": "7c556cf2",
   "metadata": {},
   "outputs": [],
   "source": [
    "# Checking if someone has won"
   ]
  },
  {
   "cell_type": "code",
   "execution_count": 10,
   "id": "fe24d6b7",
   "metadata": {},
   "outputs": [],
   "source": [
    "def has_won(game_array):\n",
    "    \n",
    "    # Checking rows\n",
    "    \n",
    "    for row in range(len(game_array)):\n",
    "        if (game_array[0][2] == game_array[1][2] == game_array[2][2] and game_array[0][2] != \"\" ):\n",
    "            display_message(game_array[0][2].upper() + \" has won!!\")\n",
    "            return True\n",
    "            \n",
    "            \n",
    "    # Checking columns\n",
    "            \n",
    "    for col in range(len(game_array)):\n",
    "            if (game_array[0][2] == game_array[1][2] == game_array[2][2] and game_array[0][2] != \"\" ):\n",
    "                display_message(game_array[0][2].upper() + \"has won!!\")\n",
    "                return True\n",
    "            \n",
    "    \n",
    "    # Checking main diagonal\n",
    "    if (game_array[0][0][2] == game_array[1][1][2] == game_array[2][2][2] and game_array[0][0][2] != \"\"):\n",
    "        display_message(game_array[0][0][2].upper() + \" has won!\")\n",
    "\n",
    "        return True\n",
    "    \n",
    "    # Checking reverse diagnol\n",
    "    if (game_array[0][2][2] == game_array[1][1][2] == game_array[2][0][2] and game_array[0][2][2] != \"\"):\n",
    "        display_message(game_array[0][2][2].upper() + \"has won!\")\n",
    "        return True\n",
    "    \n",
    "    return False"
   ]
  },
  {
   "cell_type": "code",
   "execution_count": 11,
   "id": "ff773d3a",
   "metadata": {},
   "outputs": [
    {
     "ename": "KeyboardInterrupt",
     "evalue": "",
     "output_type": "error",
     "traceback": [
      "\u001b[1;31m-----------------------------------------------------------------------\u001b[0m",
      "\u001b[1;31mKeyboardInterrupt\u001b[0m                     Traceback (most recent call last)",
      "\u001b[1;32m<ipython-input-11-4de6a8511973>\u001b[0m in \u001b[0;36m<module>\u001b[1;34m\u001b[0m\n\u001b[0;32m     55\u001b[0m \u001b[1;32mwhile\u001b[0m \u001b[1;32mTrue\u001b[0m\u001b[1;33m:\u001b[0m\u001b[1;33m\u001b[0m\u001b[1;33m\u001b[0m\u001b[0m\n\u001b[0;32m     56\u001b[0m     \u001b[1;32mif\u001b[0m \u001b[0m__name__\u001b[0m \u001b[1;33m==\u001b[0m \u001b[1;34m'__main__'\u001b[0m\u001b[1;33m:\u001b[0m\u001b[1;33m\u001b[0m\u001b[1;33m\u001b[0m\u001b[0m\n\u001b[1;32m---> 57\u001b[1;33m         \u001b[0mmain\u001b[0m\u001b[1;33m(\u001b[0m\u001b[1;33m)\u001b[0m\u001b[1;33m\u001b[0m\u001b[1;33m\u001b[0m\u001b[0m\n\u001b[0m\u001b[0;32m     58\u001b[0m \u001b[1;33m\u001b[0m\u001b[0m\n",
      "\u001b[1;32m<ipython-input-11-4de6a8511973>\u001b[0m in \u001b[0;36mmain\u001b[1;34m()\u001b[0m\n\u001b[0;32m     48\u001b[0m                 \u001b[0mclick\u001b[0m\u001b[1;33m(\u001b[0m\u001b[0mgame_array\u001b[0m\u001b[1;33m)\u001b[0m\u001b[1;33m\u001b[0m\u001b[1;33m\u001b[0m\u001b[0m\n\u001b[0;32m     49\u001b[0m \u001b[1;33m\u001b[0m\u001b[0m\n\u001b[1;32m---> 50\u001b[1;33m         \u001b[0mrender\u001b[0m\u001b[1;33m(\u001b[0m\u001b[1;33m)\u001b[0m\u001b[1;33m\u001b[0m\u001b[1;33m\u001b[0m\u001b[0m\n\u001b[0m\u001b[0;32m     51\u001b[0m \u001b[1;33m\u001b[0m\u001b[0m\n\u001b[0;32m     52\u001b[0m         \u001b[1;32mif\u001b[0m \u001b[0mhas_won\u001b[0m\u001b[1;33m(\u001b[0m\u001b[0mgame_array\u001b[0m\u001b[1;33m)\u001b[0m \u001b[1;32mor\u001b[0m \u001b[0mhas_drawn\u001b[0m\u001b[1;33m(\u001b[0m\u001b[0mgame_array\u001b[0m\u001b[1;33m)\u001b[0m\u001b[1;33m:\u001b[0m\u001b[1;33m\u001b[0m\u001b[1;33m\u001b[0m\u001b[0m\n",
      "\u001b[1;32m<ipython-input-11-4de6a8511973>\u001b[0m in \u001b[0;36mrender\u001b[1;34m()\u001b[0m\n\u001b[0;32m     25\u001b[0m         \u001b[0mwin\u001b[0m\u001b[1;33m.\u001b[0m\u001b[0mblit\u001b[0m\u001b[1;33m(\u001b[0m\u001b[0mIMAGE\u001b[0m\u001b[1;33m,\u001b[0m \u001b[1;33m(\u001b[0m\u001b[0mx\u001b[0m \u001b[1;33m-\u001b[0m \u001b[0mIMAGE\u001b[0m\u001b[1;33m.\u001b[0m\u001b[0mget_width\u001b[0m\u001b[1;33m(\u001b[0m\u001b[1;33m)\u001b[0m \u001b[1;33m//\u001b[0m \u001b[1;36m2\u001b[0m\u001b[1;33m,\u001b[0m \u001b[0my\u001b[0m \u001b[1;33m-\u001b[0m \u001b[0mIMAGE\u001b[0m\u001b[1;33m.\u001b[0m\u001b[0mget_height\u001b[0m\u001b[1;33m(\u001b[0m\u001b[1;33m)\u001b[0m \u001b[1;33m//\u001b[0m\u001b[1;36m2\u001b[0m \u001b[1;33m)\u001b[0m\u001b[1;33m)\u001b[0m\u001b[1;33m\u001b[0m\u001b[1;33m\u001b[0m\u001b[0m\n\u001b[0;32m     26\u001b[0m \u001b[1;33m\u001b[0m\u001b[0m\n\u001b[1;32m---> 27\u001b[1;33m     \u001b[0mpygame\u001b[0m\u001b[1;33m.\u001b[0m\u001b[0mdisplay\u001b[0m\u001b[1;33m.\u001b[0m\u001b[0mupdate\u001b[0m\u001b[1;33m(\u001b[0m\u001b[1;33m)\u001b[0m\u001b[1;33m\u001b[0m\u001b[1;33m\u001b[0m\u001b[0m\n\u001b[0m\u001b[0;32m     28\u001b[0m \u001b[1;33m\u001b[0m\u001b[0m\n\u001b[0;32m     29\u001b[0m \u001b[1;32mdef\u001b[0m \u001b[0mmain\u001b[0m\u001b[1;33m(\u001b[0m\u001b[1;33m)\u001b[0m\u001b[1;33m:\u001b[0m\u001b[1;33m\u001b[0m\u001b[1;33m\u001b[0m\u001b[0m\n",
      "\u001b[1;31mKeyboardInterrupt\u001b[0m: "
     ]
    }
   ],
   "source": [
    "def has_drawn(game_array):\n",
    "    for i in range(len(game_array)):\n",
    "        for j in range(len(game_array)):\n",
    "            if game_array[i][j][2] == \"\":\n",
    "                return False\n",
    "            \n",
    "    display_message(\"It's a draw!\")\n",
    "    return True\n",
    "\n",
    "def display_message(content):\n",
    "    pygame.time.delay(500)\n",
    "    win.fill(WHITE)\n",
    "    end_text = END_FONT.render(content, 1, BLACK)\n",
    "    win.blit(end_text, ((WIDTH - end_text.get_width()) // 2, (WIDTH - end_text.get_height()) // 2))\n",
    "    pygame.display.update()\n",
    "    pygame.time.delay(3000)\n",
    "    \n",
    "def render():\n",
    "    win.fill(WHITE)\n",
    "    draw_grid()\n",
    "    \n",
    "    #Drawing X's and O's\n",
    "    for image in images:\n",
    "        x, y, IMAGE = image\n",
    "        win.blit(IMAGE, (x - IMAGE.get_width() // 2, y - IMAGE.get_height() //2 ))\n",
    "        \n",
    "    pygame.display.update()\n",
    "    \n",
    "def main():\n",
    "    global x_turn, o_turn, images, draw\n",
    "    \n",
    "    images = []\n",
    "    draw = False\n",
    "    \n",
    "    run = True\n",
    "    \n",
    "    x_turn = True\n",
    "    o_turn = False\n",
    "    \n",
    "    game_array = initialize_grid()\n",
    "    \n",
    "    while run:\n",
    "        for event in pygame.event.get():\n",
    "            if event.type == pygame.QUIT:\n",
    "                pygame.quit()\n",
    "                \n",
    "            if event.type == pygame.MOUSEBUTTONDOWN:\n",
    "                click(game_array)\n",
    "                \n",
    "        render()\n",
    "        \n",
    "        if has_won(game_array) or has_drawn(game_array):\n",
    "            run = False\n",
    "            \n",
    "while True:\n",
    "    if __name__ == '__main__':\n",
    "        main()\n",
    "                "
   ]
  }
 ],
 "metadata": {
  "kernelspec": {
   "display_name": "Python 3",
   "language": "python",
   "name": "python3"
  },
  "language_info": {
   "codemirror_mode": {
    "name": "ipython",
    "version": 3
   },
   "file_extension": ".py",
   "mimetype": "text/x-python",
   "name": "python",
   "nbconvert_exporter": "python",
   "pygments_lexer": "ipython3",
   "version": "3.9.5"
  }
 },
 "nbformat": 4,
 "nbformat_minor": 5
}
