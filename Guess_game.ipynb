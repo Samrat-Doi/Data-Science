{
  "nbformat": 4,
  "nbformat_minor": 0,
  "metadata": {
    "colab": {
      "name": "Guess_game.ipynb",
      "provenance": [],
      "authorship_tag": "ABX9TyO+6xbiSlyFtpmLU7TWLnzv",
      "include_colab_link": true
    },
    "kernelspec": {
      "name": "python3",
      "display_name": "Python 3"
    },
    "language_info": {
      "name": "python"
    }
  },
  "cells": [
    {
      "cell_type": "markdown",
      "metadata": {
        "id": "view-in-github",
        "colab_type": "text"
      },
      "source": [
        "<a href=\"https://colab.research.google.com/github/Samrat-Doi/Samrat-Doi/blob/main/Guess_game.ipynb\" target=\"_parent\"><img src=\"https://colab.research.google.com/assets/colab-badge.svg\" alt=\"Open In Colab\"/></a>"
      ]
    },
    {
      "cell_type": "markdown",
      "source": [
        ""
      ],
      "metadata": {
        "id": "6TD0j5yeYlM4"
      }
    },
    {
      "cell_type": "code",
      "source": [
        "# GUESS GAME\n",
        "\n",
        "\"\"\"Task: Below are the steps:\n",
        "\n",
        "Build a Number guessing game, in which the user selects a range.\n",
        "Let’s say User selected a range, i.e., from A to B, where A and B belong to Integer.\n",
        "Some random integer will be selected by the system and the user has to guess that integer in the minimum number of guesses\"\"\"\n",
        "\n",
        "# Import required libraries\n",
        "\n",
        "import random \n",
        "import math\n",
        "\n",
        "#Take input for range\n",
        "\n",
        "l = int(input(\"Enter the lower bound: \"))\n",
        "u = int(input(\"Enter the upper bound: \"))\n",
        "\n",
        "random_num = random.randint(l, u)\n",
        "no_guess = round(math.log(u-l, 2))\n",
        "print(\"You have total \", no_guess, \" chances to guess the number.\")\n",
        "\n",
        "# Assign conditions\n",
        "\n",
        "i = 0\n",
        "\n",
        "while i < no_guess:\n",
        " \n",
        "  guess = int(input('Guess the number: '))\n",
        "\n",
        "  if guess == random_num:\n",
        "    \n",
        "    print(\"You took \", i, \" chances.\")\n",
        "    print(\"Congratulations you did it!!\")\n",
        "    break\n",
        "\n",
        "  elif guess > random_num:\n",
        "    print(\"Guess a lower number\")\n",
        "  \n",
        "  else:\n",
        "    print('Guess a higher number')\n",
        "  \n",
        "  i += 1\n",
        "\n",
        "\n",
        "if i >= no_guess:\n",
        "  print(\"Better Luck Next time!\")\n"
      ],
      "metadata": {
        "id": "gnLWgohgYrHq"
      },
      "execution_count": null,
      "outputs": []
    }
  ]
}